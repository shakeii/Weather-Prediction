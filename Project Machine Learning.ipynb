{
 "cells": [
  {
   "cell_type": "markdown",
   "id": "f1730e82",
   "metadata": {},
   "source": [
    "Project Machine Learning\n",
    "\n",
    "Kelas : LA01\n",
    "\n",
    "Anggota Kelompok :\n",
    "- Michael Kosasih - 2440009364\n",
    "- Stanley Figo - 2440010416\n",
    "- Surya Immanuel - 2440026875"
   ]
  },
  {
   "cell_type": "code",
   "execution_count": 1,
   "id": "5097c1ea",
   "metadata": {},
   "outputs": [],
   "source": [
    "import pandas as pd\n",
    "import numpy as np\n",
    "import matplotlib.pyplot as plt\n",
    "import seaborn as sns\n",
    "csv_path = \"Desktop\\cuaca_jakarta.csv\"\n",
    "weather = pd.read_csv(csv_path,index_col=\"DATE\")"
   ]
  },
  {
   "cell_type": "code",
   "execution_count": 2,
   "id": "3a922e60",
   "metadata": {},
   "outputs": [
    {
     "data": {
      "text/html": [
       "<div>\n",
       "<style scoped>\n",
       "    .dataframe tbody tr th:only-of-type {\n",
       "        vertical-align: middle;\n",
       "    }\n",
       "\n",
       "    .dataframe tbody tr th {\n",
       "        vertical-align: top;\n",
       "    }\n",
       "\n",
       "    .dataframe thead th {\n",
       "        text-align: right;\n",
       "    }\n",
       "</style>\n",
       "<table border=\"1\" class=\"dataframe\">\n",
       "  <thead>\n",
       "    <tr style=\"text-align: right;\">\n",
       "      <th></th>\n",
       "      <th>STATION</th>\n",
       "      <th>NAME</th>\n",
       "      <th>PRCP</th>\n",
       "      <th>TAVG</th>\n",
       "      <th>TMAX</th>\n",
       "      <th>TMIN</th>\n",
       "    </tr>\n",
       "    <tr>\n",
       "      <th>DATE</th>\n",
       "      <th></th>\n",
       "      <th></th>\n",
       "      <th></th>\n",
       "      <th></th>\n",
       "      <th></th>\n",
       "      <th></th>\n",
       "    </tr>\n",
       "  </thead>\n",
       "  <tbody>\n",
       "    <tr>\n",
       "      <th>1974-05-18</th>\n",
       "      <td>IDM00096741</td>\n",
       "      <td>JAKARTA TANJUNG PRIOK, ID</td>\n",
       "      <td>0.0</td>\n",
       "      <td>79</td>\n",
       "      <td>NaN</td>\n",
       "      <td>NaN</td>\n",
       "    </tr>\n",
       "    <tr>\n",
       "      <th>1974-05-30</th>\n",
       "      <td>IDM00096741</td>\n",
       "      <td>JAKARTA TANJUNG PRIOK, ID</td>\n",
       "      <td>0.0</td>\n",
       "      <td>78</td>\n",
       "      <td>NaN</td>\n",
       "      <td>NaN</td>\n",
       "    </tr>\n",
       "    <tr>\n",
       "      <th>1974-08-24</th>\n",
       "      <td>IDM00096741</td>\n",
       "      <td>JAKARTA TANJUNG PRIOK, ID</td>\n",
       "      <td>0.0</td>\n",
       "      <td>79</td>\n",
       "      <td>NaN</td>\n",
       "      <td>NaN</td>\n",
       "    </tr>\n",
       "    <tr>\n",
       "      <th>1974-09-09</th>\n",
       "      <td>IDM00096741</td>\n",
       "      <td>JAKARTA TANJUNG PRIOK, ID</td>\n",
       "      <td>0.0</td>\n",
       "      <td>76</td>\n",
       "      <td>NaN</td>\n",
       "      <td>NaN</td>\n",
       "    </tr>\n",
       "    <tr>\n",
       "      <th>1974-12-02</th>\n",
       "      <td>IDM00096741</td>\n",
       "      <td>JAKARTA TANJUNG PRIOK, ID</td>\n",
       "      <td>0.0</td>\n",
       "      <td>83</td>\n",
       "      <td>NaN</td>\n",
       "      <td>NaN</td>\n",
       "    </tr>\n",
       "    <tr>\n",
       "      <th>...</th>\n",
       "      <td>...</td>\n",
       "      <td>...</td>\n",
       "      <td>...</td>\n",
       "      <td>...</td>\n",
       "      <td>...</td>\n",
       "      <td>...</td>\n",
       "    </tr>\n",
       "    <tr>\n",
       "      <th>2022-06-09</th>\n",
       "      <td>IDM00096741</td>\n",
       "      <td>JAKARTA TANJUNG PRIOK, ID</td>\n",
       "      <td>NaN</td>\n",
       "      <td>80</td>\n",
       "      <td>86.0</td>\n",
       "      <td>NaN</td>\n",
       "    </tr>\n",
       "    <tr>\n",
       "      <th>2022-06-10</th>\n",
       "      <td>IDM00096741</td>\n",
       "      <td>JAKARTA TANJUNG PRIOK, ID</td>\n",
       "      <td>NaN</td>\n",
       "      <td>85</td>\n",
       "      <td>93.0</td>\n",
       "      <td>77.0</td>\n",
       "    </tr>\n",
       "    <tr>\n",
       "      <th>2022-06-11</th>\n",
       "      <td>IDM00096741</td>\n",
       "      <td>JAKARTA TANJUNG PRIOK, ID</td>\n",
       "      <td>NaN</td>\n",
       "      <td>84</td>\n",
       "      <td>90.0</td>\n",
       "      <td>77.0</td>\n",
       "    </tr>\n",
       "    <tr>\n",
       "      <th>2022-06-12</th>\n",
       "      <td>IDM00096741</td>\n",
       "      <td>JAKARTA TANJUNG PRIOK, ID</td>\n",
       "      <td>NaN</td>\n",
       "      <td>83</td>\n",
       "      <td>89.0</td>\n",
       "      <td>80.0</td>\n",
       "    </tr>\n",
       "    <tr>\n",
       "      <th>2022-06-13</th>\n",
       "      <td>IDM00096741</td>\n",
       "      <td>JAKARTA TANJUNG PRIOK, ID</td>\n",
       "      <td>NaN</td>\n",
       "      <td>83</td>\n",
       "      <td>89.0</td>\n",
       "      <td>79.0</td>\n",
       "    </tr>\n",
       "  </tbody>\n",
       "</table>\n",
       "<p>8984 rows × 6 columns</p>\n",
       "</div>"
      ],
      "text/plain": [
       "                STATION                       NAME  PRCP  TAVG  TMAX  TMIN\n",
       "DATE                                                                      \n",
       "1974-05-18  IDM00096741  JAKARTA TANJUNG PRIOK, ID   0.0    79   NaN   NaN\n",
       "1974-05-30  IDM00096741  JAKARTA TANJUNG PRIOK, ID   0.0    78   NaN   NaN\n",
       "1974-08-24  IDM00096741  JAKARTA TANJUNG PRIOK, ID   0.0    79   NaN   NaN\n",
       "1974-09-09  IDM00096741  JAKARTA TANJUNG PRIOK, ID   0.0    76   NaN   NaN\n",
       "1974-12-02  IDM00096741  JAKARTA TANJUNG PRIOK, ID   0.0    83   NaN   NaN\n",
       "...                 ...                        ...   ...   ...   ...   ...\n",
       "2022-06-09  IDM00096741  JAKARTA TANJUNG PRIOK, ID   NaN    80  86.0   NaN\n",
       "2022-06-10  IDM00096741  JAKARTA TANJUNG PRIOK, ID   NaN    85  93.0  77.0\n",
       "2022-06-11  IDM00096741  JAKARTA TANJUNG PRIOK, ID   NaN    84  90.0  77.0\n",
       "2022-06-12  IDM00096741  JAKARTA TANJUNG PRIOK, ID   NaN    83  89.0  80.0\n",
       "2022-06-13  IDM00096741  JAKARTA TANJUNG PRIOK, ID   NaN    83  89.0  79.0\n",
       "\n",
       "[8984 rows x 6 columns]"
      ]
     },
     "execution_count": 2,
     "metadata": {},
     "output_type": "execute_result"
    }
   ],
   "source": [
    "weather"
   ]
  },
  {
   "cell_type": "code",
   "execution_count": 3,
   "id": "89417a5c",
   "metadata": {},
   "outputs": [
    {
     "data": {
      "text/plain": [
       "STATION       0\n",
       "NAME          0\n",
       "PRCP       7088\n",
       "TAVG          0\n",
       "TMAX       2495\n",
       "TMIN       3276\n",
       "dtype: int64"
      ]
     },
     "execution_count": 3,
     "metadata": {},
     "output_type": "execute_result"
    }
   ],
   "source": [
    "weather.apply(pd.isnull).sum()"
   ]
  },
  {
   "cell_type": "code",
   "execution_count": 4,
   "id": "a5256b20",
   "metadata": {},
   "outputs": [],
   "source": [
    "weather[\"target\"] = weather.shift(-1)[\"TMAX\"]"
   ]
  },
  {
   "cell_type": "code",
   "execution_count": 5,
   "id": "f6978a1b",
   "metadata": {},
   "outputs": [
    {
     "data": {
      "text/plain": [
       "<AxesSubplot:>"
      ]
     },
     "execution_count": 5,
     "metadata": {},
     "output_type": "execute_result"
    },
    {
     "data": {
      "image/png": "[encoded data removed]",
      "text/plain": [
       "<Figure size 360x360 with 2 Axes>"
      ]
     },
     "metadata": {
      "needs_background": "light"
     },
     "output_type": "display_data"
    }
   ],
   "source": [
    "#Feature Selection using Correlation Matrix with Heatmap\n",
    "matrixcorr = weather.corr()\n",
    "plt.figure(figsize=(5,5))\n",
    "sns.heatmap(matrixcorr,vmin=-1,vmax=1,center=0,annot=True,cmap = 'Oranges')"
   ]
  },
  {
   "cell_type": "code",
   "execution_count": 6,
   "id": "f33e2310",
   "metadata": {},
   "outputs": [],
   "source": [
    "core_weather = weather[[\"TAVG\",\"TMAX\", \"TMIN\"]].copy()\n",
    "core_weather.columns = [\"temp_avg\",\"temp_max\", \"temp_min\"]"
   ]
  },
  {
   "cell_type": "code",
   "execution_count": 7,
   "id": "eea407b8",
   "metadata": {},
   "outputs": [
    {
     "data": {
      "text/plain": [
       "temp_avg       0\n",
       "temp_max    2495\n",
       "temp_min    3276\n",
       "dtype: int64"
      ]
     },
     "execution_count": 7,
     "metadata": {},
     "output_type": "execute_result"
    }
   ],
   "source": [
    "core_weather.apply(pd.isnull).sum()"
   ]
  },
  {
   "cell_type": "code",
   "execution_count": 8,
   "id": "7d596021",
   "metadata": {},
   "outputs": [],
   "source": [
    "core_weather = core_weather.fillna(method=\"ffill\")"
   ]
  },
  {
   "cell_type": "code",
   "execution_count": 9,
   "id": "2056b7e9",
   "metadata": {},
   "outputs": [
    {
     "data": {
      "text/plain": [
       "temp_avg     0\n",
       "temp_max    36\n",
       "temp_min     8\n",
       "dtype: int64"
      ]
     },
     "execution_count": 9,
     "metadata": {},
     "output_type": "execute_result"
    }
   ],
   "source": [
    "core_weather.apply(pd.isnull).sum()"
   ]
  },
  {
   "cell_type": "code",
   "execution_count": 10,
   "id": "b038cc89",
   "metadata": {},
   "outputs": [],
   "source": [
    "core_weather = core_weather.dropna()"
   ]
  },
  {
   "cell_type": "code",
   "execution_count": 11,
   "id": "261cbf7a",
   "metadata": {},
   "outputs": [
    {
     "data": {
      "text/plain": [
       "temp_avg    0\n",
       "temp_max    0\n",
       "temp_min    0\n",
       "dtype: int64"
      ]
     },
     "execution_count": 11,
     "metadata": {},
     "output_type": "execute_result"
    }
   ],
   "source": [
    "core_weather.apply(pd.isnull).sum()"
   ]
  },
  {
   "cell_type": "code",
   "execution_count": 12,
   "id": "1d25ddef",
   "metadata": {},
   "outputs": [],
   "source": [
    "core_weather[\"target\"] = core_weather.shift(-1)[\"temp_max\"]"
   ]
  },
  {
   "cell_type": "code",
   "execution_count": 13,
   "id": "0ebdfb52",
   "metadata": {},
   "outputs": [],
   "source": [
    "core_weather[\"temp_avg\"] = (core_weather[\"temp_avg\"]-32) * 5/9\n",
    "core_weather[\"temp_max\"] = (core_weather[\"temp_max\"]-32) * 5/9\n",
    "core_weather[\"temp_min\"] = (core_weather[\"temp_min\"]-32) * 5/9\n",
    "core_weather[\"target\"] = (core_weather[\"target\"]-32) * 5/9"
   ]
  },
  {
   "cell_type": "code",
   "execution_count": 14,
   "id": "b776b63e",
   "metadata": {},
   "outputs": [
    {
     "data": {
      "text/html": [
       "<div>\n",
       "<style scoped>\n",
       "    .dataframe tbody tr th:only-of-type {\n",
       "        vertical-align: middle;\n",
       "    }\n",
       "\n",
       "    .dataframe tbody tr th {\n",
       "        vertical-align: top;\n",
       "    }\n",
       "\n",
       "    .dataframe thead th {\n",
       "        text-align: right;\n",
       "    }\n",
       "</style>\n",
       "<table border=\"1\" class=\"dataframe\">\n",
       "  <thead>\n",
       "    <tr style=\"text-align: right;\">\n",
       "      <th></th>\n",
       "      <th>temp_avg</th>\n",
       "      <th>temp_max</th>\n",
       "      <th>temp_min</th>\n",
       "      <th>target</th>\n",
       "    </tr>\n",
       "    <tr>\n",
       "      <th>DATE</th>\n",
       "      <th></th>\n",
       "      <th></th>\n",
       "      <th></th>\n",
       "      <th></th>\n",
       "    </tr>\n",
       "  </thead>\n",
       "  <tbody>\n",
       "    <tr>\n",
       "      <th>1975-07-26</th>\n",
       "      <td>28.333333</td>\n",
       "      <td>31.111111</td>\n",
       "      <td>22.777778</td>\n",
       "      <td>31.111111</td>\n",
       "    </tr>\n",
       "    <tr>\n",
       "      <th>1975-07-31</th>\n",
       "      <td>27.222222</td>\n",
       "      <td>31.111111</td>\n",
       "      <td>22.777778</td>\n",
       "      <td>31.111111</td>\n",
       "    </tr>\n",
       "    <tr>\n",
       "      <th>1975-08-03</th>\n",
       "      <td>28.888889</td>\n",
       "      <td>31.111111</td>\n",
       "      <td>22.777778</td>\n",
       "      <td>31.111111</td>\n",
       "    </tr>\n",
       "    <tr>\n",
       "      <th>1975-08-08</th>\n",
       "      <td>31.666667</td>\n",
       "      <td>31.111111</td>\n",
       "      <td>22.777778</td>\n",
       "      <td>31.111111</td>\n",
       "    </tr>\n",
       "    <tr>\n",
       "      <th>1975-08-09</th>\n",
       "      <td>30.000000</td>\n",
       "      <td>31.111111</td>\n",
       "      <td>22.777778</td>\n",
       "      <td>31.111111</td>\n",
       "    </tr>\n",
       "    <tr>\n",
       "      <th>...</th>\n",
       "      <td>...</td>\n",
       "      <td>...</td>\n",
       "      <td>...</td>\n",
       "      <td>...</td>\n",
       "    </tr>\n",
       "    <tr>\n",
       "      <th>2022-06-09</th>\n",
       "      <td>26.666667</td>\n",
       "      <td>30.000000</td>\n",
       "      <td>26.111111</td>\n",
       "      <td>33.888889</td>\n",
       "    </tr>\n",
       "    <tr>\n",
       "      <th>2022-06-10</th>\n",
       "      <td>29.444444</td>\n",
       "      <td>33.888889</td>\n",
       "      <td>25.000000</td>\n",
       "      <td>32.222222</td>\n",
       "    </tr>\n",
       "    <tr>\n",
       "      <th>2022-06-11</th>\n",
       "      <td>28.888889</td>\n",
       "      <td>32.222222</td>\n",
       "      <td>25.000000</td>\n",
       "      <td>31.666667</td>\n",
       "    </tr>\n",
       "    <tr>\n",
       "      <th>2022-06-12</th>\n",
       "      <td>28.333333</td>\n",
       "      <td>31.666667</td>\n",
       "      <td>26.666667</td>\n",
       "      <td>31.666667</td>\n",
       "    </tr>\n",
       "    <tr>\n",
       "      <th>2022-06-13</th>\n",
       "      <td>28.333333</td>\n",
       "      <td>31.666667</td>\n",
       "      <td>26.111111</td>\n",
       "      <td>NaN</td>\n",
       "    </tr>\n",
       "  </tbody>\n",
       "</table>\n",
       "<p>8948 rows × 4 columns</p>\n",
       "</div>"
      ],
      "text/plain": [
       "             temp_avg   temp_max   temp_min     target\n",
       "DATE                                                  \n",
       "1975-07-26  28.333333  31.111111  22.777778  31.111111\n",
       "1975-07-31  27.222222  31.111111  22.777778  31.111111\n",
       "1975-08-03  28.888889  31.111111  22.777778  31.111111\n",
       "1975-08-08  31.666667  31.111111  22.777778  31.111111\n",
       "1975-08-09  30.000000  31.111111  22.777778  31.111111\n",
       "...               ...        ...        ...        ...\n",
       "2022-06-09  26.666667  30.000000  26.111111  33.888889\n",
       "2022-06-10  29.444444  33.888889  25.000000  32.222222\n",
       "2022-06-11  28.888889  32.222222  25.000000  31.666667\n",
       "2022-06-12  28.333333  31.666667  26.666667  31.666667\n",
       "2022-06-13  28.333333  31.666667  26.111111        NaN\n",
       "\n",
       "[8948 rows x 4 columns]"
      ]
     },
     "execution_count": 14,
     "metadata": {},
     "output_type": "execute_result"
    }
   ],
   "source": [
    "core_weather"
   ]
  },
  {
   "cell_type": "code",
   "execution_count": 15,
   "id": "99c187df",
   "metadata": {},
   "outputs": [],
   "source": [
    "core_weather = core_weather.iloc[:-1,:].copy()"
   ]
  },
  {
   "cell_type": "code",
   "execution_count": 16,
   "id": "0d85a9e9",
   "metadata": {},
   "outputs": [],
   "source": [
    "from sklearn.linear_model import Ridge\n",
    "reg = Ridge(alpha=.1)"
   ]
  },
  {
   "cell_type": "code",
   "execution_count": 17,
   "id": "3ec2c738",
   "metadata": {},
   "outputs": [],
   "source": [
    "predictors = [\"temp_avg\", \"temp_max\", \"temp_min\"]"
   ]
  },
  {
   "cell_type": "code",
   "execution_count": 18,
   "id": "56f2bf39",
   "metadata": {},
   "outputs": [],
   "source": [
    "train = core_weather.loc[:\"2020-12-31\"]\n",
    "test = core_weather.loc[\"2021-01-01\":]"
   ]
  },
  {
   "cell_type": "code",
   "execution_count": 19,
   "id": "1bd58543",
   "metadata": {},
   "outputs": [
    {
     "data": {
      "text/plain": [
       "Ridge(alpha=0.1)"
      ]
     },
     "execution_count": 19,
     "metadata": {},
     "output_type": "execute_result"
    }
   ],
   "source": [
    "reg.fit(train[predictors], train[\"target\"])"
   ]
  },
  {
   "cell_type": "code",
   "execution_count": 20,
   "id": "88aefca2",
   "metadata": {},
   "outputs": [],
   "source": [
    "Ridge(alpha=0.1)\n",
    "predictions = reg.predict(test[predictors])"
   ]
  },
  {
   "cell_type": "code",
   "execution_count": 21,
   "id": "0d5b3efa",
   "metadata": {},
   "outputs": [
    {
     "name": "stdout",
     "output_type": "stream",
     "text": [
      "Mean Absolute Error:  0.8760784447805962\n"
     ]
    }
   ],
   "source": [
    "from sklearn.metrics import mean_absolute_error, mean_squared_error,r2_score\n",
    "print(\"Mean Absolute Error: \",mean_absolute_error(test[\"target\"], predictions))"
   ]
  },
  {
   "cell_type": "code",
   "execution_count": 22,
   "id": "aea474ed",
   "metadata": {},
   "outputs": [
    {
     "name": "stdout",
     "output_type": "stream",
     "text": [
      "Mean Squared Error :  1.4711111176532117\n"
     ]
    }
   ],
   "source": [
    "print(\"Mean Squared Error : \",mean_squared_error(test[\"target\"], predictions))"
   ]
  },
  {
   "cell_type": "code",
   "execution_count": 23,
   "id": "538b1615",
   "metadata": {},
   "outputs": [
    {
     "name": "stdout",
     "output_type": "stream",
     "text": [
      "Root Mean Square Error :  1.2128936959409145\n"
     ]
    }
   ],
   "source": [
    "print(\"Root Mean Square Error : \",np.sqrt(mean_squared_error(test[\"target\"], predictions)))"
   ]
  },
  {
   "cell_type": "code",
   "execution_count": 24,
   "id": "2f653f3a",
   "metadata": {},
   "outputs": [
    {
     "name": "stdout",
     "output_type": "stream",
     "text": [
      "R2 Score :  0.23809656608194463\n"
     ]
    }
   ],
   "source": [
    "print(\"R2 Score : \",r2_score(test[\"target\"], predictions))"
   ]
  },
  {
   "cell_type": "code",
   "execution_count": 25,
   "id": "fa7805d3",
   "metadata": {},
   "outputs": [],
   "source": [
    "combined = pd.concat([test[\"target\"], pd.Series(predictions, index=test.index)], axis=1)\n",
    "combined.columns = [\"actual\", \"predictions\"]"
   ]
  },
  {
   "cell_type": "code",
   "execution_count": 26,
   "id": "43c262cb",
   "metadata": {},
   "outputs": [
    {
     "data": {
      "text/plain": [
       "<AxesSubplot:xlabel='DATE'>"
      ]
     },
     "execution_count": 26,
     "metadata": {},
     "output_type": "execute_result"
    },
    {
     "data": {
      "image/png": "[encoded data removed]",
      "text/plain": [
       "<Figure size 720x360 with 1 Axes>"
      ]
     },
     "metadata": {
      "needs_background": "light"
     },
     "output_type": "display_data"
    }
   ],
   "source": [
    "combined.plot(figsize=(10,5))"
   ]
  },
  {
   "cell_type": "code",
   "execution_count": 27,
   "id": "5de6fac9",
   "metadata": {},
   "outputs": [
    {
     "name": "stdout",
     "output_type": "stream",
     "text": [
      "Intercept: \n",
      " 7.500437287541345\n",
      "Coefficients: \n",
      " [0.03853547 0.65836272 0.09358034]\n"
     ]
    }
   ],
   "source": [
    "print('Intercept: \\n', reg.intercept_)\n",
    "print('Coefficients: \\n', reg.coef_)"
   ]
  },
  {
   "cell_type": "code",
   "execution_count": 28,
   "id": "f8b9a152",
   "metadata": {},
   "outputs": [],
   "source": [
    "import tkinter as tk \n",
    "import matplotlib.pyplot as plt\n",
    "from matplotlib.backends.backend_tkagg import FigureCanvasTkAgg\n",
    "root = tk.Tk()\n",
    "canvas1 = tk.Canvas(root, width = 500, height = 400)\n",
    "canvas1.pack()"
   ]
  },
  {
   "cell_type": "code",
   "execution_count": 29,
   "id": "16322d71",
   "metadata": {},
   "outputs": [
    {
     "data": {
      "text/plain": [
       "3"
      ]
     },
     "execution_count": 29,
     "metadata": {},
     "output_type": "execute_result"
    }
   ],
   "source": [
    "# Tittle\n",
    "label_title = tk.Label(root, text=\"Project Machine Learning\", justify = 'center', font=('bold'))\n",
    "canvas1.create_window(260, 20, window=label_title)\n",
    "# Kelas\n",
    "label_1 = tk.Label(root, text=\"Kelas : LA01\", justify = 'center')\n",
    "canvas1.create_window(260, 40, window=label_1)\n",
    "# Anggota Kelompok\n",
    "label_2 = tk.Label(root, text=\"Anggota Kelompok\\n1. Michael Kosasih - 2440009364\\n2. Stanley Figo - 2440010416\\n3. Surya Immanuel - 2440026875\", justify = 'center')\n",
    "canvas1.create_window(260, 80, window=label_2)"
   ]
  },
  {
   "cell_type": "code",
   "execution_count": 30,
   "id": "4b876b69",
   "metadata": {},
   "outputs": [
    {
     "data": {
      "text/plain": [
       "10"
      ]
     },
     "execution_count": 30,
     "metadata": {},
     "output_type": "execute_result"
    }
   ],
   "source": [
    "#Predict\n",
    "label1 = tk.Label(root, text='Average Temperature (°C): ')\n",
    "canvas1.create_window(120, 130, window=label1)\n",
    "entry1 = tk.Entry (root)\n",
    "canvas1.create_window(270, 130, window=entry1)\n",
    "\n",
    "label2 = tk.Label(root, text='Maximum Temperature (°C): ')\n",
    "canvas1.create_window(120, 150, window=label2)\n",
    "entry2 = tk.Entry (root)\n",
    "canvas1.create_window(270, 150, window=entry2)\n",
    "\n",
    "label3 = tk.Label(root, text='Minimum Temperature (°C): ')\n",
    "canvas1.create_window(120, 170, window=label3)\n",
    "entry3 = tk.Entry (root)\n",
    "canvas1.create_window(270, 170, window=entry3)\n",
    "\n",
    "def values(): \n",
    "    global temp_avg #our 1st input variable\n",
    "    temp_avg = float(entry1.get()) \n",
    "    \n",
    "    global temp_max #our 2nd input variable\n",
    "    temp_max = float(entry2.get()) \n",
    "    \n",
    "    global temp_min #our 3nd input variable\n",
    "    temp_min = float(entry3.get()) \n",
    "    \n",
    "    Prediction_result  = ('Predicted Tomorrow Maximum Temperature (°C): ', reg.predict([[temp_avg ,temp_max, temp_min]]))\n",
    "    label_Prediction = tk.Label(root, text= Prediction_result, bg='orange')\n",
    "    canvas1.create_window(260, 230, window=label_Prediction)\n",
    "    \n",
    "button1 = tk.Button (root, text='Predict',command=values, bg='orange') # button to call the 'values' command above \n",
    "canvas1.create_window(270, 200, window=button1)"
   ]
  },
  {
   "cell_type": "code",
   "execution_count": 31,
   "id": "a637fe47",
   "metadata": {},
   "outputs": [
    {
     "data": {
      "text/plain": [
       "17"
      ]
     },
     "execution_count": 31,
     "metadata": {},
     "output_type": "execute_result"
    }
   ],
   "source": [
    "#Evaluation Matrix\n",
    "label_title2 = tk.Label(root, text=\"Evaluation Matrix\", justify = 'center', font=('bold'))\n",
    "canvas1.create_window(260, 260, window=label_title2)\n",
    "# MAE\n",
    "MAE = ('Mean Absolute Error: ', mean_absolute_error(test[\"target\"], predictions))\n",
    "label_MAE = tk.Label(root, text=MAE, justify = 'center')\n",
    "canvas1.create_window(260, 280, window=label_MAE)\n",
    "# MSE\n",
    "MSE = ('Mean Squared Error : ', mean_squared_error(test[\"target\"], predictions))\n",
    "label_MSE = tk.Label(root, text=MSE, justify = 'center')\n",
    "canvas1.create_window(260, 300, window=label_MSE)\n",
    "# RMSE\n",
    "RMSE = ('Root Mean Square Error : ', np.sqrt(mean_squared_error(test[\"target\"], predictions)))\n",
    "label_RMSE = tk.Label(root, text=RMSE, justify = 'center')\n",
    "canvas1.create_window(260, 320, window=label_RMSE)\\\n",
    "# R2 Score\n",
    "R2 = ('R2 Score : ', r2_score(test[\"target\"], predictions))\n",
    "label_R2 = tk.Label(root, text=R2, justify = 'center')\n",
    "canvas1.create_window(260, 340, window=label_R2)\n",
    "# Intercept\n",
    "Intercept_result = ('Intercept: ', reg.intercept_)\n",
    "label_Intercept = tk.Label(root, text=Intercept_result, justify = 'center')\n",
    "canvas1.create_window(260, 360, window=label_Intercept)\n",
    "# Coefficients\n",
    "Coefficients_result  = ('Coefficients: ', reg.coef_)\n",
    "label_Coefficients = tk.Label(root, text=Coefficients_result, justify = 'center')\n",
    "canvas1.create_window(260, 380, window=label_Coefficients)"
   ]
  },
  {
   "cell_type": "code",
   "execution_count": 32,
   "id": "cb0ba431",
   "metadata": {},
   "outputs": [
    {
     "data": {
      "text/plain": [
       "Text(0.5, 1.0, 'Tomorrow maximum temperature')"
      ]
     },
     "execution_count": 32,
     "metadata": {},
     "output_type": "execute_result"
    }
   ],
   "source": [
    "figure = plt.Figure(figsize=(10,4), dpi=100)\n",
    "ax = figure.add_subplot(111)\n",
    "chart_type = FigureCanvasTkAgg(figure, root)\n",
    "chart_type.get_tk_widget().pack()\n",
    "combined.plot(legend=True, ax=ax)\n",
    "ax.set_ylabel('Temperature °C')\n",
    "ax.set_title('Tomorrow maximum temperature')"
   ]
  },
  {
   "cell_type": "code",
   "execution_count": 33,
   "id": "91c2b010",
   "metadata": {},
   "outputs": [],
   "source": [
    "root.mainloop()"
   ]
  }
 ],
 "metadata": {
  "kernelspec": {
   "display_name": "Python 3 (ipykernel)",
   "language": "python",
   "name": "python3"
  },
  "language_info": {
   "codemirror_mode": {
    "name": "ipython",
    "version": 3
   },
   "file_extension": ".py",
   "mimetype": "text/x-python",
   "name": "python",
   "nbconvert_exporter": "python",
   "pygments_lexer": "ipython3",
   "version": "3.9.7"
  }
 },
 "nbformat": 4,
 "nbformat_minor": 5
}
